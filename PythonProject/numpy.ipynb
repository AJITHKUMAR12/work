{
 "cells": [
  {
   "cell_type": "code",
   "id": "initial_id",
   "metadata": {
    "collapsed": true,
    "ExecuteTime": {
     "end_time": "2025-07-17T09:53:38.821337Z",
     "start_time": "2025-07-17T09:53:38.497323Z"
    }
   },
   "source": "import numpy as np",
   "outputs": [],
   "execution_count": 1
  },
  {
   "metadata": {
    "ExecuteTime": {
     "end_time": "2025-07-17T09:54:00.185178Z",
     "start_time": "2025-07-17T09:54:00.167287Z"
    }
   },
   "cell_type": "code",
   "source": [
    "a=np.array([1,2,3])\n",
    "a"
   ],
   "id": "cd8292e7a1c09de7",
   "outputs": [
    {
     "data": {
      "text/plain": [
       "array([1, 2, 3])"
      ]
     },
     "execution_count": 2,
     "metadata": {},
     "output_type": "execute_result"
    }
   ],
   "execution_count": 2
  },
  {
   "metadata": {
    "ExecuteTime": {
     "end_time": "2025-07-17T09:55:29.876955Z",
     "start_time": "2025-07-17T09:55:29.753788Z"
    }
   },
   "cell_type": "code",
   "source": "a[2]",
   "id": "4c89bf0f59049cb6",
   "outputs": [
    {
     "data": {
      "text/plain": [
       "np.int64(3)"
      ]
     },
     "execution_count": 3,
     "metadata": {},
     "output_type": "execute_result"
    }
   ],
   "execution_count": 3
  },
  {
   "metadata": {
    "ExecuteTime": {
     "end_time": "2025-07-17T09:57:08.827962Z",
     "start_time": "2025-07-17T09:57:08.781176Z"
    }
   },
   "cell_type": "code",
   "source": [
    "import time\n",
    "import sys"
   ],
   "id": "208630a23512e5f7",
   "outputs": [],
   "execution_count": 4
  },
  {
   "metadata": {},
   "cell_type": "code",
   "outputs": [],
   "execution_count": null,
   "source": "",
   "id": "5818513bd42dee62"
  }
 ],
 "metadata": {
  "kernelspec": {
   "display_name": "Python 3",
   "language": "python",
   "name": "python3"
  },
  "language_info": {
   "codemirror_mode": {
    "name": "ipython",
    "version": 2
   },
   "file_extension": ".py",
   "mimetype": "text/x-python",
   "name": "python",
   "nbconvert_exporter": "python",
   "pygments_lexer": "ipython2",
   "version": "2.7.6"
  }
 },
 "nbformat": 4,
 "nbformat_minor": 5
}
