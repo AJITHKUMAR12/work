{
 "cells": [
  {
   "cell_type": "code",
   "id": "initial_id",
   "metadata": {
    "collapsed": true,
    "ExecuteTime": {
     "end_time": "2025-07-20T09:46:04.441034Z",
     "start_time": "2025-07-20T09:45:59.649553Z"
    }
   },
   "source": "import pandas as pd",
   "outputs": [],
   "execution_count": 4
  },
  {
   "metadata": {
    "ExecuteTime": {
     "end_time": "2025-07-20T06:22:46.210747Z",
     "start_time": "2025-07-20T06:22:46.201492Z"
    }
   },
   "cell_type": "code",
   "source": "print(pd.__version__)",
   "id": "9dbe965826453eaf",
   "outputs": [
    {
     "name": "stdout",
     "output_type": "stream",
     "text": [
      "2.3.1\n"
     ]
    }
   ],
   "execution_count": 2
  },
  {
   "metadata": {
    "ExecuteTime": {
     "end_time": "2025-07-20T06:41:34.796299Z",
     "start_time": "2025-07-20T06:41:34.245726Z"
    }
   },
   "cell_type": "code",
   "source": [
    "arr=[1,2,3]\n",
    "series=pd.Series(arr)\n",
    "series"
   ],
   "id": "7267a4cf490538b1",
   "outputs": [
    {
     "data": {
      "text/plain": [
       "0    1\n",
       "1    2\n",
       "2    3\n",
       "dtype: int64"
      ]
     },
     "execution_count": 3,
     "metadata": {},
     "output_type": "execute_result"
    }
   ],
   "execution_count": 3
  },
  {
   "metadata": {
    "ExecuteTime": {
     "end_time": "2025-07-20T07:02:06.718897Z",
     "start_time": "2025-07-20T07:02:06.699640Z"
    }
   },
   "cell_type": "code",
   "source": [
    "order=[1,2,3]\n",
    "series2=pd.Series(order,index=order)\n",
    "series2"
   ],
   "id": "ab8e3ae78075ed0b",
   "outputs": [
    {
     "data": {
      "text/plain": [
       "1    1\n",
       "2    2\n",
       "3    3\n",
       "dtype: int64"
      ]
     },
     "execution_count": 7,
     "metadata": {},
     "output_type": "execute_result"
    }
   ],
   "execution_count": 7
  },
  {
   "metadata": {
    "ExecuteTime": {
     "end_time": "2025-07-20T09:56:16.730627Z",
     "start_time": "2025-07-20T09:56:16.714318Z"
    }
   },
   "cell_type": "code",
   "source": [
    "import numpy as np\n",
    "n=np.random.randn(5)\n",
    "index=['a','b','c','d','e']\n",
    "s3=pd.Series(n,index=index)\n",
    "s3"
   ],
   "id": "90443b5f24122946",
   "outputs": [
    {
     "data": {
      "text/plain": [
       "a   -0.691364\n",
       "b    0.025155\n",
       "c   -0.744982\n",
       "d    1.142219\n",
       "e    0.114930\n",
       "dtype: float64"
      ]
     },
     "execution_count": 13,
     "metadata": {},
     "output_type": "execute_result"
    }
   ],
   "execution_count": 13
  },
  {
   "metadata": {
    "ExecuteTime": {
     "end_time": "2025-07-20T07:06:47.908488Z",
     "start_time": "2025-07-20T07:06:47.894111Z"
    }
   },
   "cell_type": "code",
   "source": [
    "s4={'a':1,'b':2,'c':3}\n",
    "\n",
    "s5=pd.Series(s4)\n",
    "s5"
   ],
   "id": "4408ee4be1420d6",
   "outputs": [
    {
     "data": {
      "text/plain": [
       "a    1\n",
       "b    2\n",
       "c    3\n",
       "dtype: int64"
      ]
     },
     "execution_count": 11,
     "metadata": {},
     "output_type": "execute_result"
    }
   ],
   "execution_count": 11
  },
  {
   "metadata": {
    "ExecuteTime": {
     "end_time": "2025-07-20T07:11:30.731900Z",
     "start_time": "2025-07-20T07:11:30.651400Z"
    }
   },
   "cell_type": "code",
   "source": [
    "series\n",
    "series.index=['a','b','c']\n",
    "series"
   ],
   "id": "272933a032268739",
   "outputs": [
    {
     "data": {
      "text/plain": [
       "a    1\n",
       "b    2\n",
       "c    3\n",
       "dtype: int64"
      ]
     },
     "execution_count": 13,
     "metadata": {},
     "output_type": "execute_result"
    }
   ],
   "execution_count": 13
  },
  {
   "metadata": {
    "ExecuteTime": {
     "end_time": "2025-07-20T07:13:20.402576Z",
     "start_time": "2025-07-20T07:13:20.393716Z"
    }
   },
   "cell_type": "code",
   "source": "series[0:2]",
   "id": "8dab1e7425546e2",
   "outputs": [
    {
     "data": {
      "text/plain": [
       "a    1\n",
       "b    2\n",
       "dtype: int64"
      ]
     },
     "execution_count": 16,
     "metadata": {},
     "output_type": "execute_result"
    }
   ],
   "execution_count": 16
  },
  {
   "metadata": {
    "ExecuteTime": {
     "end_time": "2025-07-20T07:22:51.906452Z",
     "start_time": "2025-07-20T07:22:51.806488Z"
    }
   },
   "cell_type": "code",
   "source": [
    "series5=s3.append(s4)\n",
    "series5"
   ],
   "id": "31e6398a0df4aaaf",
   "outputs": [
    {
     "ename": "AttributeError",
     "evalue": "'Series' object has no attribute 'append'",
     "output_type": "error",
     "traceback": [
      "\u001B[31m---------------------------------------------------------------------------\u001B[39m",
      "\u001B[31mAttributeError\u001B[39m                            Traceback (most recent call last)",
      "\u001B[32m~\\AppData\\Local\\Temp\\ipykernel_10032\\3305709972.py\u001B[39m in \u001B[36m?\u001B[39m\u001B[34m()\u001B[39m\n\u001B[32m----> \u001B[39m\u001B[32m1\u001B[39m series5=s3.append(s4)\n\u001B[32m      2\u001B[39m series5\n",
      "\u001B[32m~\\PycharmProjects\\PythonProject\\.venv\\Lib\\site-packages\\pandas\\core\\generic.py\u001B[39m in \u001B[36m?\u001B[39m\u001B[34m(self, name)\u001B[39m\n\u001B[32m   6314\u001B[39m             \u001B[38;5;28;01mand\u001B[39;00m name \u001B[38;5;28;01mnot\u001B[39;00m \u001B[38;5;28;01min\u001B[39;00m self._accessors\n\u001B[32m   6315\u001B[39m             \u001B[38;5;28;01mand\u001B[39;00m self._info_axis._can_hold_identifiers_and_holds_name(name)\n\u001B[32m   6316\u001B[39m         ):\n\u001B[32m   6317\u001B[39m             \u001B[38;5;28;01mreturn\u001B[39;00m self[name]\n\u001B[32m-> \u001B[39m\u001B[32m6318\u001B[39m         \u001B[38;5;28;01mreturn\u001B[39;00m object.__getattribute__(self, name)\n",
      "\u001B[31mAttributeError\u001B[39m: 'Series' object has no attribute 'append'"
     ]
    }
   ],
   "execution_count": 19
  },
  {
   "metadata": {
    "ExecuteTime": {
     "end_time": "2025-07-20T07:23:26.696276Z",
     "start_time": "2025-07-20T07:23:26.552791Z"
    }
   },
   "cell_type": "code",
   "source": "s3",
   "id": "41b4698c73b17afe",
   "outputs": [
    {
     "data": {
      "text/plain": [
       "a    0.206379\n",
       "b    1.237991\n",
       "c    0.529187\n",
       "d   -0.237735\n",
       "e    0.483012\n",
       "dtype: float64"
      ]
     },
     "execution_count": 20,
     "metadata": {},
     "output_type": "execute_result"
    }
   ],
   "execution_count": 20
  },
  {
   "metadata": {
    "ExecuteTime": {
     "end_time": "2025-07-20T07:25:25.556843Z",
     "start_time": "2025-07-20T07:25:25.545030Z"
    }
   },
   "cell_type": "code",
   "source": "s3.drop('a')\n",
   "id": "40da566d6b9ed01a",
   "outputs": [
    {
     "data": {
      "text/plain": [
       "b    1.237991\n",
       "c    0.529187\n",
       "d   -0.237735\n",
       "e    0.483012\n",
       "dtype: float64"
      ]
     },
     "execution_count": 24,
     "metadata": {},
     "output_type": "execute_result"
    }
   ],
   "execution_count": 24
  },
  {
   "metadata": {
    "ExecuteTime": {
     "end_time": "2025-07-20T07:36:54.456101Z",
     "start_time": "2025-07-20T07:36:54.395886Z"
    }
   },
   "cell_type": "code",
   "source": [
    "\n",
    "\n",
    "\n",
    "\n",
    "\n",
    "\n",
    "\n",
    "arr1=[1,3,5,6,7]\n",
    "arr2=[2,4,6,8]\n",
    "s5=pd.Series(arr2)\n",
    "s5"
   ],
   "id": "e9a09e8f6051e51",
   "outputs": [
    {
     "data": {
      "text/plain": [
       "0    2\n",
       "1    4\n",
       "2    6\n",
       "3    8\n",
       "dtype: int64"
      ]
     },
     "execution_count": 26,
     "metadata": {},
     "output_type": "execute_result"
    }
   ],
   "execution_count": 26
  },
  {
   "metadata": {
    "ExecuteTime": {
     "end_time": "2025-07-20T07:40:56.858994Z",
     "start_time": "2025-07-20T07:40:56.695117Z"
    }
   },
   "cell_type": "code",
   "source": [
    "arr3=[1,2,2,2,2,2]\n",
    "s6=pd.Series(arr3)\n",
    "s6"
   ],
   "id": "270bb2e4483c4336",
   "outputs": [
    {
     "data": {
      "text/plain": [
       "0    1\n",
       "1    2\n",
       "2    2\n",
       "3    2\n",
       "4    2\n",
       "5    2\n",
       "dtype: int64"
      ]
     },
     "execution_count": 27,
     "metadata": {},
     "output_type": "execute_result"
    }
   ],
   "execution_count": 27
  },
  {
   "metadata": {
    "ExecuteTime": {
     "end_time": "2025-07-20T07:42:28.867649Z",
     "start_time": "2025-07-20T07:42:28.786691Z"
    }
   },
   "cell_type": "code",
   "source": "s5.add(s6)",
   "id": "a64aa4eb849d8e1b",
   "outputs": [
    {
     "data": {
      "text/plain": [
       "0     3.0\n",
       "1     6.0\n",
       "2     8.0\n",
       "3    10.0\n",
       "4     NaN\n",
       "5     NaN\n",
       "dtype: float64"
      ]
     },
     "execution_count": 28,
     "metadata": {},
     "output_type": "execute_result"
    }
   ],
   "execution_count": 28
  },
  {
   "metadata": {
    "ExecuteTime": {
     "end_time": "2025-07-20T07:42:45.165370Z",
     "start_time": "2025-07-20T07:42:45.152339Z"
    }
   },
   "cell_type": "code",
   "source": "s5.subtract(s6)",
   "id": "4006b20623726945",
   "outputs": [
    {
     "data": {
      "text/plain": [
       "0    1.0\n",
       "1    2.0\n",
       "2    4.0\n",
       "3    6.0\n",
       "4    NaN\n",
       "5    NaN\n",
       "dtype: float64"
      ]
     },
     "execution_count": 29,
     "metadata": {},
     "output_type": "execute_result"
    }
   ],
   "execution_count": 29
  },
  {
   "metadata": {
    "ExecuteTime": {
     "end_time": "2025-07-20T07:44:32.291157Z",
     "start_time": "2025-07-20T07:44:32.279503Z"
    }
   },
   "cell_type": "code",
   "source": "s6",
   "id": "fac613b666687878",
   "outputs": [
    {
     "data": {
      "text/plain": [
       "0    1\n",
       "1    2\n",
       "2    2\n",
       "3    2\n",
       "4    2\n",
       "5    2\n",
       "dtype: int64"
      ]
     },
     "execution_count": 30,
     "metadata": {},
     "output_type": "execute_result"
    }
   ],
   "execution_count": 30
  },
  {
   "metadata": {
    "ExecuteTime": {
     "end_time": "2025-07-20T07:44:50.378904Z",
     "start_time": "2025-07-20T07:44:50.345409Z"
    }
   },
   "cell_type": "code",
   "source": "s6.median()",
   "id": "aee0f52f8573ebc8",
   "outputs": [
    {
     "data": {
      "text/plain": [
       "np.float64(2.0)"
      ]
     },
     "execution_count": 31,
     "metadata": {},
     "output_type": "execute_result"
    }
   ],
   "execution_count": 31
  },
  {
   "metadata": {
    "ExecuteTime": {
     "end_time": "2025-07-20T09:44:21.311748Z",
     "start_time": "2025-07-20T09:44:20.749338Z"
    }
   },
   "cell_type": "code",
   "source": "s6",
   "id": "cf2e4216efd77d28",
   "outputs": [
    {
     "ename": "NameError",
     "evalue": "name 's6' is not defined",
     "output_type": "error",
     "traceback": [
      "\u001B[31m---------------------------------------------------------------------------\u001B[39m",
      "\u001B[31mNameError\u001B[39m                                 Traceback (most recent call last)",
      "\u001B[36mCell\u001B[39m\u001B[36m \u001B[39m\u001B[32mIn[1]\u001B[39m\u001B[32m, line 1\u001B[39m\n\u001B[32m----> \u001B[39m\u001B[32m1\u001B[39m \u001B[43ms6\u001B[49m\n",
      "\u001B[31mNameError\u001B[39m: name 's6' is not defined"
     ]
    }
   ],
   "execution_count": 1
  },
  {
   "metadata": {
    "ExecuteTime": {
     "end_time": "2025-07-20T09:45:17.598147Z",
     "start_time": "2025-07-20T09:45:17.582646Z"
    }
   },
   "cell_type": "code",
   "source": [
    "s6=[1,2,3,4,5]\n",
    "s6"
   ],
   "id": "f742b455eed0024a",
   "outputs": [
    {
     "data": {
      "text/plain": [
       "[1, 2, 3, 4, 5]"
      ]
     },
     "execution_count": 2,
     "metadata": {},
     "output_type": "execute_result"
    }
   ],
   "execution_count": 2
  },
  {
   "metadata": {
    "ExecuteTime": {
     "end_time": "2025-07-20T09:46:31.113675Z",
     "start_time": "2025-07-20T09:46:31.099088Z"
    }
   },
   "cell_type": "code",
   "source": "s5=pd.Series(s6)",
   "id": "776c4608ad8a2fd4",
   "outputs": [],
   "execution_count": 5
  },
  {
   "metadata": {
    "ExecuteTime": {
     "end_time": "2025-07-20T09:46:38.498666Z",
     "start_time": "2025-07-20T09:46:38.472240Z"
    }
   },
   "cell_type": "code",
   "source": "s5",
   "id": "b108dcf4d451ff8b",
   "outputs": [
    {
     "data": {
      "text/plain": [
       "0    1\n",
       "1    2\n",
       "2    3\n",
       "3    4\n",
       "4    5\n",
       "dtype: int64"
      ]
     },
     "execution_count": 6,
     "metadata": {},
     "output_type": "execute_result"
    }
   ],
   "execution_count": 6
  },
  {
   "metadata": {
    "ExecuteTime": {
     "end_time": "2025-07-20T09:49:32.842361Z",
     "start_time": "2025-07-20T09:49:32.827382Z"
    }
   },
   "cell_type": "code",
   "source": [
    "\n",
    "s5.index=['a','b','c','d','e']\n",
    "s5"
   ],
   "id": "8ebd6913a09d10fb",
   "outputs": [
    {
     "data": {
      "text/plain": [
       "a    1\n",
       "b    2\n",
       "c    3\n",
       "d    4\n",
       "e    5\n",
       "dtype: int64"
      ]
     },
     "execution_count": 9,
     "metadata": {},
     "output_type": "execute_result"
    }
   ],
   "execution_count": 9
  },
  {
   "metadata": {
    "ExecuteTime": {
     "end_time": "2025-07-20T09:49:56.195165Z",
     "start_time": "2025-07-20T09:49:56.168107Z"
    }
   },
   "cell_type": "code",
   "source": "s5.max()",
   "id": "45d8955ad39256cc",
   "outputs": [
    {
     "data": {
      "text/plain": [
       "np.int64(5)"
      ]
     },
     "execution_count": 10,
     "metadata": {},
     "output_type": "execute_result"
    }
   ],
   "execution_count": 10
  },
  {
   "metadata": {
    "ExecuteTime": {
     "end_time": "2025-07-20T09:50:06.918613Z",
     "start_time": "2025-07-20T09:50:06.907842Z"
    }
   },
   "cell_type": "code",
   "source": "s5.min()",
   "id": "c7795ef78dbb7ee3",
   "outputs": [
    {
     "data": {
      "text/plain": [
       "np.int64(1)"
      ]
     },
     "execution_count": 11,
     "metadata": {},
     "output_type": "execute_result"
    }
   ],
   "execution_count": 11
  },
  {
   "metadata": {
    "ExecuteTime": {
     "end_time": "2025-07-20T09:58:58.158393Z",
     "start_time": "2025-07-20T09:58:58.114905Z"
    }
   },
   "cell_type": "code",
   "source": [
    "\n",
    "\n",
    "\n",
    "dates=pd.date_range('today', periods=6)\n",
    "num_arr=np.random.randn(6,5)\n",
    "columns=['a','b','c','d','e']\n",
    "df = pd.DataFrame(num_arr, index=dates,columns=columns)\n",
    "df\n",
    "\n"
   ],
   "id": "b66244539030abd6",
   "outputs": [
    {
     "data": {
      "text/plain": [
       "                                   a         b         c         d         e\n",
       "2025-07-20 15:28:58.120043  0.177443 -0.428563  0.159023  2.130104  0.368361\n",
       "2025-07-21 15:28:58.120043  1.560017  0.411652 -0.261440  3.658444  0.668624\n",
       "2025-07-22 15:28:58.120043 -0.170066  0.317345  0.515168 -1.647891  0.697849\n",
       "2025-07-23 15:28:58.120043  0.797880  1.073272 -0.248743  0.714516 -0.095992\n",
       "2025-07-24 15:28:58.120043 -0.452076  0.088294 -0.309937 -0.538812  0.301248\n",
       "2025-07-25 15:28:58.120043  1.189005  1.645621 -0.652838 -0.622280  0.598517"
      ],
      "text/html": [
       "<div>\n",
       "<style scoped>\n",
       "    .dataframe tbody tr th:only-of-type {\n",
       "        vertical-align: middle;\n",
       "    }\n",
       "\n",
       "    .dataframe tbody tr th {\n",
       "        vertical-align: top;\n",
       "    }\n",
       "\n",
       "    .dataframe thead th {\n",
       "        text-align: right;\n",
       "    }\n",
       "</style>\n",
       "<table border=\"1\" class=\"dataframe\">\n",
       "  <thead>\n",
       "    <tr style=\"text-align: right;\">\n",
       "      <th></th>\n",
       "      <th>a</th>\n",
       "      <th>b</th>\n",
       "      <th>c</th>\n",
       "      <th>d</th>\n",
       "      <th>e</th>\n",
       "    </tr>\n",
       "  </thead>\n",
       "  <tbody>\n",
       "    <tr>\n",
       "      <th>2025-07-20 15:28:58.120043</th>\n",
       "      <td>0.177443</td>\n",
       "      <td>-0.428563</td>\n",
       "      <td>0.159023</td>\n",
       "      <td>2.130104</td>\n",
       "      <td>0.368361</td>\n",
       "    </tr>\n",
       "    <tr>\n",
       "      <th>2025-07-21 15:28:58.120043</th>\n",
       "      <td>1.560017</td>\n",
       "      <td>0.411652</td>\n",
       "      <td>-0.261440</td>\n",
       "      <td>3.658444</td>\n",
       "      <td>0.668624</td>\n",
       "    </tr>\n",
       "    <tr>\n",
       "      <th>2025-07-22 15:28:58.120043</th>\n",
       "      <td>-0.170066</td>\n",
       "      <td>0.317345</td>\n",
       "      <td>0.515168</td>\n",
       "      <td>-1.647891</td>\n",
       "      <td>0.697849</td>\n",
       "    </tr>\n",
       "    <tr>\n",
       "      <th>2025-07-23 15:28:58.120043</th>\n",
       "      <td>0.797880</td>\n",
       "      <td>1.073272</td>\n",
       "      <td>-0.248743</td>\n",
       "      <td>0.714516</td>\n",
       "      <td>-0.095992</td>\n",
       "    </tr>\n",
       "    <tr>\n",
       "      <th>2025-07-24 15:28:58.120043</th>\n",
       "      <td>-0.452076</td>\n",
       "      <td>0.088294</td>\n",
       "      <td>-0.309937</td>\n",
       "      <td>-0.538812</td>\n",
       "      <td>0.301248</td>\n",
       "    </tr>\n",
       "    <tr>\n",
       "      <th>2025-07-25 15:28:58.120043</th>\n",
       "      <td>1.189005</td>\n",
       "      <td>1.645621</td>\n",
       "      <td>-0.652838</td>\n",
       "      <td>-0.622280</td>\n",
       "      <td>0.598517</td>\n",
       "    </tr>\n",
       "  </tbody>\n",
       "</table>\n",
       "</div>"
      ]
     },
     "execution_count": 17,
     "metadata": {},
     "output_type": "execute_result"
    }
   ],
   "execution_count": 17
  },
  {
   "metadata": {
    "ExecuteTime": {
     "end_time": "2025-07-20T10:09:19.039407Z",
     "start_time": "2025-07-20T10:09:19.024087Z"
    }
   },
   "cell_type": "code",
   "source": [
    "data={'animal':['cat','dog','cat','dog'],'age':[1,2,3,4],'visits':['2','3','4','5']}\n",
    "columns=['a','b','c','d']\n",
    "df2=pd.DataFrame(data,index=columns)\n",
    "df2.dtypes"
   ],
   "id": "12b984648e38638f",
   "outputs": [
    {
     "data": {
      "text/plain": [
       "animal    object\n",
       "age        int64\n",
       "visits    object\n",
       "dtype: object"
      ]
     },
     "execution_count": 23,
     "metadata": {},
     "output_type": "execute_result"
    }
   ],
   "execution_count": 23
  },
  {
   "metadata": {
    "ExecuteTime": {
     "end_time": "2025-07-20T10:11:51.131975Z",
     "start_time": "2025-07-20T10:11:51.120808Z"
    }
   },
   "cell_type": "code",
   "source": [
    "df2.head(3)\n",
    "df2.tail(2)\n",
    "df2.index\n",
    "df2.columns"
   ],
   "id": "df5058552d1c6cc8",
   "outputs": [
    {
     "data": {
      "text/plain": [
       "Index(['animal', 'age', 'visits'], dtype='object')"
      ]
     },
     "execution_count": 30,
     "metadata": {},
     "output_type": "execute_result"
    }
   ],
   "execution_count": 30
  },
  {
   "metadata": {
    "ExecuteTime": {
     "end_time": "2025-07-20T10:12:27.865914Z",
     "start_time": "2025-07-20T10:12:27.850430Z"
    }
   },
   "cell_type": "code",
   "source": "df2",
   "id": "fea5cb3683de095e",
   "outputs": [
    {
     "data": {
      "text/plain": [
       "  animal  age visits\n",
       "a    cat    1      2\n",
       "b    dog    2      3\n",
       "c    cat    3      4\n",
       "d    dog    4      5"
      ],
      "text/html": [
       "<div>\n",
       "<style scoped>\n",
       "    .dataframe tbody tr th:only-of-type {\n",
       "        vertical-align: middle;\n",
       "    }\n",
       "\n",
       "    .dataframe tbody tr th {\n",
       "        vertical-align: top;\n",
       "    }\n",
       "\n",
       "    .dataframe thead th {\n",
       "        text-align: right;\n",
       "    }\n",
       "</style>\n",
       "<table border=\"1\" class=\"dataframe\">\n",
       "  <thead>\n",
       "    <tr style=\"text-align: right;\">\n",
       "      <th></th>\n",
       "      <th>animal</th>\n",
       "      <th>age</th>\n",
       "      <th>visits</th>\n",
       "    </tr>\n",
       "  </thead>\n",
       "  <tbody>\n",
       "    <tr>\n",
       "      <th>a</th>\n",
       "      <td>cat</td>\n",
       "      <td>1</td>\n",
       "      <td>2</td>\n",
       "    </tr>\n",
       "    <tr>\n",
       "      <th>b</th>\n",
       "      <td>dog</td>\n",
       "      <td>2</td>\n",
       "      <td>3</td>\n",
       "    </tr>\n",
       "    <tr>\n",
       "      <th>c</th>\n",
       "      <td>cat</td>\n",
       "      <td>3</td>\n",
       "      <td>4</td>\n",
       "    </tr>\n",
       "    <tr>\n",
       "      <th>d</th>\n",
       "      <td>dog</td>\n",
       "      <td>4</td>\n",
       "      <td>5</td>\n",
       "    </tr>\n",
       "  </tbody>\n",
       "</table>\n",
       "</div>"
      ]
     },
     "execution_count": 31,
     "metadata": {},
     "output_type": "execute_result"
    }
   ],
   "execution_count": 31
  },
  {
   "metadata": {
    "ExecuteTime": {
     "end_time": "2025-07-20T10:17:26.429991Z",
     "start_time": "2025-07-20T10:17:26.417742Z"
    }
   },
   "cell_type": "code",
   "source": "df2.values",
   "id": "2d7f2feb1bf8b747",
   "outputs": [
    {
     "data": {
      "text/plain": [
       "array([['cat', 1, '2'],\n",
       "       ['dog', 2, '3'],\n",
       "       ['cat', 3, '4'],\n",
       "       ['dog', 4, '5']], dtype=object)"
      ]
     },
     "execution_count": 32,
     "metadata": {},
     "output_type": "execute_result"
    }
   ],
   "execution_count": 32
  },
  {
   "metadata": {
    "ExecuteTime": {
     "end_time": "2025-07-20T10:20:02.387244Z",
     "start_time": "2025-07-20T10:20:02.342704Z"
    }
   },
   "cell_type": "code",
   "source": " df2.describe()",
   "id": "76e2902561df2f08",
   "outputs": [
    {
     "data": {
      "text/plain": [
       "            age\n",
       "count  4.000000\n",
       "mean   2.500000\n",
       "std    1.290994\n",
       "min    1.000000\n",
       "25%    1.750000\n",
       "50%    2.500000\n",
       "75%    3.250000\n",
       "max    4.000000"
      ],
      "text/html": [
       "<div>\n",
       "<style scoped>\n",
       "    .dataframe tbody tr th:only-of-type {\n",
       "        vertical-align: middle;\n",
       "    }\n",
       "\n",
       "    .dataframe tbody tr th {\n",
       "        vertical-align: top;\n",
       "    }\n",
       "\n",
       "    .dataframe thead th {\n",
       "        text-align: right;\n",
       "    }\n",
       "</style>\n",
       "<table border=\"1\" class=\"dataframe\">\n",
       "  <thead>\n",
       "    <tr style=\"text-align: right;\">\n",
       "      <th></th>\n",
       "      <th>age</th>\n",
       "    </tr>\n",
       "  </thead>\n",
       "  <tbody>\n",
       "    <tr>\n",
       "      <th>count</th>\n",
       "      <td>4.000000</td>\n",
       "    </tr>\n",
       "    <tr>\n",
       "      <th>mean</th>\n",
       "      <td>2.500000</td>\n",
       "    </tr>\n",
       "    <tr>\n",
       "      <th>std</th>\n",
       "      <td>1.290994</td>\n",
       "    </tr>\n",
       "    <tr>\n",
       "      <th>min</th>\n",
       "      <td>1.000000</td>\n",
       "    </tr>\n",
       "    <tr>\n",
       "      <th>25%</th>\n",
       "      <td>1.750000</td>\n",
       "    </tr>\n",
       "    <tr>\n",
       "      <th>50%</th>\n",
       "      <td>2.500000</td>\n",
       "    </tr>\n",
       "    <tr>\n",
       "      <th>75%</th>\n",
       "      <td>3.250000</td>\n",
       "    </tr>\n",
       "    <tr>\n",
       "      <th>max</th>\n",
       "      <td>4.000000</td>\n",
       "    </tr>\n",
       "  </tbody>\n",
       "</table>\n",
       "</div>"
      ]
     },
     "execution_count": 33,
     "metadata": {},
     "output_type": "execute_result"
    }
   ],
   "execution_count": 33
  },
  {
   "metadata": {
    "ExecuteTime": {
     "end_time": "2025-07-20T10:21:04.572508Z",
     "start_time": "2025-07-20T10:21:04.554580Z"
    }
   },
   "cell_type": "code",
   "source": "df2.T",
   "id": "5dfe55e27ca05359",
   "outputs": [
    {
     "data": {
      "text/plain": [
       "          a    b    c    d\n",
       "animal  cat  dog  cat  dog\n",
       "age       1    2    3    4\n",
       "visits    2    3    4    5"
      ],
      "text/html": [
       "<div>\n",
       "<style scoped>\n",
       "    .dataframe tbody tr th:only-of-type {\n",
       "        vertical-align: middle;\n",
       "    }\n",
       "\n",
       "    .dataframe tbody tr th {\n",
       "        vertical-align: top;\n",
       "    }\n",
       "\n",
       "    .dataframe thead th {\n",
       "        text-align: right;\n",
       "    }\n",
       "</style>\n",
       "<table border=\"1\" class=\"dataframe\">\n",
       "  <thead>\n",
       "    <tr style=\"text-align: right;\">\n",
       "      <th></th>\n",
       "      <th>a</th>\n",
       "      <th>b</th>\n",
       "      <th>c</th>\n",
       "      <th>d</th>\n",
       "    </tr>\n",
       "  </thead>\n",
       "  <tbody>\n",
       "    <tr>\n",
       "      <th>animal</th>\n",
       "      <td>cat</td>\n",
       "      <td>dog</td>\n",
       "      <td>cat</td>\n",
       "      <td>dog</td>\n",
       "    </tr>\n",
       "    <tr>\n",
       "      <th>age</th>\n",
       "      <td>1</td>\n",
       "      <td>2</td>\n",
       "      <td>3</td>\n",
       "      <td>4</td>\n",
       "    </tr>\n",
       "    <tr>\n",
       "      <th>visits</th>\n",
       "      <td>2</td>\n",
       "      <td>3</td>\n",
       "      <td>4</td>\n",
       "      <td>5</td>\n",
       "    </tr>\n",
       "  </tbody>\n",
       "</table>\n",
       "</div>"
      ]
     },
     "execution_count": 34,
     "metadata": {},
     "output_type": "execute_result"
    }
   ],
   "execution_count": 34
  },
  {
   "metadata": {
    "ExecuteTime": {
     "end_time": "2025-07-20T10:22:20.689632Z",
     "start_time": "2025-07-20T10:22:20.673880Z"
    }
   },
   "cell_type": "code",
   "source": "df2.sort_values(by='')",
   "id": "a04841221cbab99c",
   "outputs": [
    {
     "data": {
      "text/plain": [
       "  animal  age visits\n",
       "a    cat    1      2\n",
       "b    dog    2      3\n",
       "c    cat    3      4\n",
       "d    dog    4      5"
      ],
      "text/html": [
       "<div>\n",
       "<style scoped>\n",
       "    .dataframe tbody tr th:only-of-type {\n",
       "        vertical-align: middle;\n",
       "    }\n",
       "\n",
       "    .dataframe tbody tr th {\n",
       "        vertical-align: top;\n",
       "    }\n",
       "\n",
       "    .dataframe thead th {\n",
       "        text-align: right;\n",
       "    }\n",
       "</style>\n",
       "<table border=\"1\" class=\"dataframe\">\n",
       "  <thead>\n",
       "    <tr style=\"text-align: right;\">\n",
       "      <th></th>\n",
       "      <th>animal</th>\n",
       "      <th>age</th>\n",
       "      <th>visits</th>\n",
       "    </tr>\n",
       "  </thead>\n",
       "  <tbody>\n",
       "    <tr>\n",
       "      <th>a</th>\n",
       "      <td>cat</td>\n",
       "      <td>1</td>\n",
       "      <td>2</td>\n",
       "    </tr>\n",
       "    <tr>\n",
       "      <th>b</th>\n",
       "      <td>dog</td>\n",
       "      <td>2</td>\n",
       "      <td>3</td>\n",
       "    </tr>\n",
       "    <tr>\n",
       "      <th>c</th>\n",
       "      <td>cat</td>\n",
       "      <td>3</td>\n",
       "      <td>4</td>\n",
       "    </tr>\n",
       "    <tr>\n",
       "      <th>d</th>\n",
       "      <td>dog</td>\n",
       "      <td>4</td>\n",
       "      <td>5</td>\n",
       "    </tr>\n",
       "  </tbody>\n",
       "</table>\n",
       "</div>"
      ]
     },
     "execution_count": 35,
     "metadata": {},
     "output_type": "execute_result"
    }
   ],
   "execution_count": 35
  },
  {
   "metadata": {
    "ExecuteTime": {
     "end_time": "2025-07-20T10:35:27.841429Z",
     "start_time": "2025-07-20T10:35:27.814247Z"
    }
   },
   "cell_type": "code",
   "source": "df2.sum()",
   "id": "55ed085694a66404",
   "outputs": [
    {
     "data": {
      "text/plain": [
       "animal    catdogcatdog\n",
       "age                 10\n",
       "visits            2345\n",
       "dtype: object"
      ]
     },
     "execution_count": 38,
     "metadata": {},
     "output_type": "execute_result"
    }
   ],
   "execution_count": 38
  },
  {
   "metadata": {
    "ExecuteTime": {
     "end_time": "2025-07-20T10:38:52.571365Z",
     "start_time": "2025-07-20T10:38:52.560395Z"
    }
   },
   "cell_type": "code",
   "source": [
    "df3=df2.copy()\n",
    "df3"
   ],
   "id": "7a17035df27c7033",
   "outputs": [
    {
     "data": {
      "text/plain": [
       "  animal  age visits\n",
       "a    cat    1      2\n",
       "b    dog    2      3\n",
       "c    cat    3      4\n",
       "d    dog    4      5"
      ],
      "text/html": [
       "<div>\n",
       "<style scoped>\n",
       "    .dataframe tbody tr th:only-of-type {\n",
       "        vertical-align: middle;\n",
       "    }\n",
       "\n",
       "    .dataframe tbody tr th {\n",
       "        vertical-align: top;\n",
       "    }\n",
       "\n",
       "    .dataframe thead th {\n",
       "        text-align: right;\n",
       "    }\n",
       "</style>\n",
       "<table border=\"1\" class=\"dataframe\">\n",
       "  <thead>\n",
       "    <tr style=\"text-align: right;\">\n",
       "      <th></th>\n",
       "      <th>animal</th>\n",
       "      <th>age</th>\n",
       "      <th>visits</th>\n",
       "    </tr>\n",
       "  </thead>\n",
       "  <tbody>\n",
       "    <tr>\n",
       "      <th>a</th>\n",
       "      <td>cat</td>\n",
       "      <td>1</td>\n",
       "      <td>2</td>\n",
       "    </tr>\n",
       "    <tr>\n",
       "      <th>b</th>\n",
       "      <td>dog</td>\n",
       "      <td>2</td>\n",
       "      <td>3</td>\n",
       "    </tr>\n",
       "    <tr>\n",
       "      <th>c</th>\n",
       "      <td>cat</td>\n",
       "      <td>3</td>\n",
       "      <td>4</td>\n",
       "    </tr>\n",
       "    <tr>\n",
       "      <th>d</th>\n",
       "      <td>dog</td>\n",
       "      <td>4</td>\n",
       "      <td>5</td>\n",
       "    </tr>\n",
       "  </tbody>\n",
       "</table>\n",
       "</div>"
      ]
     },
     "execution_count": 40,
     "metadata": {},
     "output_type": "execute_result"
    }
   ],
   "execution_count": 40
  },
  {
   "metadata": {
    "ExecuteTime": {
     "end_time": "2025-07-20T10:47:19.576880Z",
     "start_time": "2025-07-20T10:47:19.510067Z"
    }
   },
   "cell_type": "code",
   "source": [
    "df3.to_csv('data.csv')\n",
    "df_data=pd.read_csv('data.csv')\n",
    "df_data"
   ],
   "id": "3502c0c3f4d18bf9",
   "outputs": [
    {
     "data": {
      "text/plain": [
       "  Unnamed: 0 animal  age  visits\n",
       "0          a    cat    1       2\n",
       "1          b    dog    2       3\n",
       "2          c    cat    3       4\n",
       "3          d    dog    4       5"
      ],
      "text/html": [
       "<div>\n",
       "<style scoped>\n",
       "    .dataframe tbody tr th:only-of-type {\n",
       "        vertical-align: middle;\n",
       "    }\n",
       "\n",
       "    .dataframe tbody tr th {\n",
       "        vertical-align: top;\n",
       "    }\n",
       "\n",
       "    .dataframe thead th {\n",
       "        text-align: right;\n",
       "    }\n",
       "</style>\n",
       "<table border=\"1\" class=\"dataframe\">\n",
       "  <thead>\n",
       "    <tr style=\"text-align: right;\">\n",
       "      <th></th>\n",
       "      <th>Unnamed: 0</th>\n",
       "      <th>animal</th>\n",
       "      <th>age</th>\n",
       "      <th>visits</th>\n",
       "    </tr>\n",
       "  </thead>\n",
       "  <tbody>\n",
       "    <tr>\n",
       "      <th>0</th>\n",
       "      <td>a</td>\n",
       "      <td>cat</td>\n",
       "      <td>1</td>\n",
       "      <td>2</td>\n",
       "    </tr>\n",
       "    <tr>\n",
       "      <th>1</th>\n",
       "      <td>b</td>\n",
       "      <td>dog</td>\n",
       "      <td>2</td>\n",
       "      <td>3</td>\n",
       "    </tr>\n",
       "    <tr>\n",
       "      <th>2</th>\n",
       "      <td>c</td>\n",
       "      <td>cat</td>\n",
       "      <td>3</td>\n",
       "      <td>4</td>\n",
       "    </tr>\n",
       "    <tr>\n",
       "      <th>3</th>\n",
       "      <td>d</td>\n",
       "      <td>dog</td>\n",
       "      <td>4</td>\n",
       "      <td>5</td>\n",
       "    </tr>\n",
       "  </tbody>\n",
       "</table>\n",
       "</div>"
      ]
     },
     "execution_count": 42,
     "metadata": {},
     "output_type": "execute_result"
    }
   ],
   "execution_count": 42
  },
  {
   "metadata": {},
   "cell_type": "code",
   "outputs": [],
   "execution_count": null,
   "source": "",
   "id": "9148a02724046fda"
  }
 ],
 "metadata": {
  "kernelspec": {
   "display_name": "Python 3",
   "language": "python",
   "name": "python3"
  },
  "language_info": {
   "codemirror_mode": {
    "name": "ipython",
    "version": 2
   },
   "file_extension": ".py",
   "mimetype": "text/x-python",
   "name": "python",
   "nbconvert_exporter": "python",
   "pygments_lexer": "ipython2",
   "version": "2.7.6"
  }
 },
 "nbformat": 4,
 "nbformat_minor": 5
}
